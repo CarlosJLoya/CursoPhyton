{
 "cells": [
  {
   "cell_type": "markdown",
   "metadata": {},
   "source": [
    "# Entorno Virtual\n",
    "C:\\>py -m venv f://f/LaunchX/M2/env\n"
   ]
  },
  {
   "cell_type": "markdown",
   "metadata": {},
   "source": [
    "# Activar entorno virtual\n",
    "C:\\>f://f/LaunchX/M2/env/Scripts/activate"
   ]
  },
  {
   "cell_type": "markdown",
   "metadata": {},
   "source": [
    "# Ver bibliotecas instaladas\n",
    "\n",
    "(env) C:\\>pip freeze\n",
    "\n",
    "# Instalar paquete\n",
    "\n",
    "(env) C:\\>pip install py-dateutil"
   ]
  },
  {
   "cell_type": "markdown",
   "metadata": {},
   "source": [
    "# Desactivar entorno virtual\n",
    "\n",
    "(env) C:\\>deactivate\n"
   ]
  }
 ],
 "metadata": {
  "language_info": {
   "name": "python"
  },
  "orig_nbformat": 4
 },
 "nbformat": 4,
 "nbformat_minor": 2
}
