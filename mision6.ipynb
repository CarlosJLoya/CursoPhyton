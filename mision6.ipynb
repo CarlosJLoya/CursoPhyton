{
 "cells": [
  {
   "cell_type": "markdown",
   "metadata": {},
   "source": [
    "# Creamos la lista planets y la mostramos"
   ]
  },
  {
   "cell_type": "code",
   "execution_count": 2,
   "metadata": {},
   "outputs": [],
   "source": [
    "planetas = ['Mercury', 'Venus', 'Earth', 'Mars', 'Jupiter', 'Saturn', 'Neptune']"
   ]
  },
  {
   "cell_type": "markdown",
   "metadata": {},
   "source": [
    "# Agregamos a plutón y mostramos el último elemento"
   ]
  },
  {
   "cell_type": "code",
   "execution_count": 6,
   "metadata": {},
   "outputs": [
    {
     "name": "stdout",
     "output_type": "stream",
     "text": [
      "['Mercury', 'Venus', 'Earth', 'Mars', 'Jupiter', 'Saturn', 'Neptune', 'Pluton', 'Pluton', 'Pluton']\n"
     ]
    },
    {
     "data": {
      "text/plain": [
       "'Pluton'"
      ]
     },
     "execution_count": 6,
     "metadata": {},
     "output_type": "execute_result"
    }
   ],
   "source": [
    "planetas.append(\"Pluton\")\n",
    "print(planetas)\n"
   ]
  },
  {
   "cell_type": "code",
   "execution_count": 3,
   "metadata": {},
   "outputs": [
    {
     "name": "stdout",
     "output_type": "stream",
     "text": [
      "['Mercury', 'Venus', 'Earth', 'Mars', 'Jupiter', 'Saturn', 'Neptune']\n"
     ]
    }
   ],
   "source": [
    "#planetas.remove(\"Pluton\")\n",
    "planetas = ['Mercury', 'Venus', 'Earth', 'Mars', 'Jupiter', 'Saturn', 'Neptune']\n",
    "print(planetas)"
   ]
  },
  {
   "cell_type": "markdown",
   "metadata": {},
   "source": [
    "# Ejercicio 2"
   ]
  },
  {
   "cell_type": "code",
   "execution_count": 14,
   "metadata": {},
   "outputs": [
    {
     "name": "stdout",
     "output_type": "stream",
     "text": [
      "Planetas mas cerecanos al sol son:  ['Mercurio', 'Venus', 'Tierra'] \n",
      "Planetas mas lejanos al sol son:  ['Jupiter', 'Saturno', 'Neptuno'] \n"
     ]
    }
   ],
   "source": [
    "lista_planetas = ['Mercurio', 'Venus', 'Tierra', 'Marte', 'Jupiter', 'Saturno', 'Neptuno']\n",
    "var=input(\"Ingresa un planeta\")\n",
    "# Busca el planeta en la lista\n",
    "\n",
    "posicion = lista_planetas.index(var)\n",
    "#print(f\"Posicion {posicion}\")\n",
    "print('Planetas mas cerecanos al sol son: ', lista_planetas[0:posicion], '')\n",
    "#print('Planetas mas cerecanos al sol que {var} son:', planetas[0:posicion], '')\n",
    "print('Planetas mas lejanos al sol son: ', lista_planetas[posicion + 1:], '')\n"
   ]
  },
  {
   "cell_type": "code",
   "execution_count": 7,
   "metadata": {},
   "outputs": [
    {
     "name": "stdout",
     "output_type": "stream",
     "text": [
      "Jupiter is the ['Mercury', 'Venus', 'Earth', 'Mars'] planet from the sun\n"
     ]
    }
   ],
   "source": [
    "planetas = ['Mercury', 'Venus', 'Earth', 'Mars', 'Jupiter', 'Saturn', 'Neptune']\n",
    "jupiter_index = planetas.index('Jupiter')\n",
    "print('Jupiter is the', planetas[0:jupiter_index], 'planet from the sun')"
   ]
  }
 ],
 "metadata": {
  "interpreter": {
   "hash": "421ee9d1caae8b6fc4023bf4fb5e721d9f93447da1552bddf12acafeae82d322"
  },
  "kernelspec": {
   "display_name": "Python 3.10.2 64-bit",
   "language": "python",
   "name": "python3"
  },
  "language_info": {
   "codemirror_mode": {
    "name": "ipython",
    "version": 3
   },
   "file_extension": ".py",
   "mimetype": "text/x-python",
   "name": "python",
   "nbconvert_exporter": "python",
   "pygments_lexer": "ipython3",
   "version": "3.10.2"
  },
  "orig_nbformat": 4
 },
 "nbformat": 4,
 "nbformat_minor": 2
}
