{
 "cells": [
  {
   "cell_type": "markdown",
   "metadata": {},
   "source": [
    "# Division piso\n"
   ]
  },
  {
   "cell_type": "code",
   "execution_count": 1,
   "metadata": {},
   "outputs": [
    {
     "name": "stdout",
     "output_type": "stream",
     "text": [
      "17\n"
     ]
    }
   ],
   "source": [
    "seconds = 1042\n",
    "display_minutes = 1042 // 60\n",
    "print(display_minutes)"
   ]
  },
  {
   "cell_type": "code",
   "execution_count": 2,
   "metadata": {},
   "outputs": [
    {
     "name": "stdout",
     "output_type": "stream",
     "text": [
      "17\n",
      "22\n"
     ]
    }
   ],
   "source": [
    "seconds = 1042\n",
    "display_minutes = 1042 // 60\n",
    "display_seconds = 1042 % 60\n",
    "\n",
    "print(display_minutes)\n",
    "print(display_seconds)"
   ]
  },
  {
   "cell_type": "markdown",
   "metadata": {},
   "source": [
    "# Convertir cadena en Numero"
   ]
  },
  {
   "cell_type": "code",
   "execution_count": 3,
   "metadata": {},
   "outputs": [
    {
     "name": "stdout",
     "output_type": "stream",
     "text": [
      "215\n"
     ]
    }
   ],
   "source": [
    "demo_int = int('215')\n",
    "print(demo_int)"
   ]
  },
  {
   "cell_type": "markdown",
   "metadata": {},
   "source": [
    "# Absolutos"
   ]
  },
  {
   "cell_type": "code",
   "execution_count": null,
   "metadata": {},
   "outputs": [],
   "source": [
    "print(abs(39 - 16))\n",
    "print(abs(16 - 39))"
   ]
  },
  {
   "cell_type": "markdown",
   "metadata": {},
   "source": [
    "# Biblioteca Math"
   ]
  },
  {
   "cell_type": "code",
   "execution_count": 4,
   "metadata": {},
   "outputs": [
    {
     "name": "stdout",
     "output_type": "stream",
     "text": [
      "13\n",
      "12\n"
     ]
    }
   ],
   "source": [
    "from math import ceil, floor\n",
    "\n",
    "round_up = ceil(12.5)\n",
    "print(round_up)\n",
    "\n",
    "round_down = floor(12.5)\n",
    "print(round_down)"
   ]
  },
  {
   "cell_type": "markdown",
   "metadata": {},
   "source": [
    "# Ejercicio 1"
   ]
  },
  {
   "cell_type": "code",
   "execution_count": 11,
   "metadata": {},
   "outputs": [
    {
     "name": "stdout",
     "output_type": "stream",
     "text": [
      "Distancia entre Tierra y Jupiter: 628949330 Km\n",
      "Distancia entre Tierra y Jupiter: 390577534 mts\n"
     ]
    }
   ],
   "source": [
    "\n",
    "Tierra = 149597870\n",
    "Jupiter = 778547200\n",
    "Resta =   Jupiter - Tierra\n",
    "print(f'Distancia entre Tierra y Jupiter: {Resta} Km' )\n",
    "distanciamts = ceil(Resta * 0.621) \n",
    "print(f'Distancia entre Tierra y Jupiter: {distanciamts} mts')"
   ]
  },
  {
   "cell_type": "markdown",
   "metadata": {},
   "source": [
    "# Ejercicio 2"
   ]
  },
  {
   "cell_type": "code",
   "execution_count": 16,
   "metadata": {},
   "outputs": [
    {
     "name": "stdout",
     "output_type": "stream",
     "text": [
      "Distancia entre planeta 1 y Planeta 2 en Km: 500\n",
      "Distancia entre planeta 1 y Planeta 2 en Millas: 311\n"
     ]
    }
   ],
   "source": [
    "var1 = input(\"Distancia al planeta 1 en Km:\")\n",
    "var2 = input(\"Distancia al planeta 2 en Km:\")\n",
    "var1=int(var1)\n",
    "var2=int(var2)\n",
    "Resta = var1 - var2\n",
    "print(f'Distancia entre planeta 1 y Planeta 2 en Km: {abs(Resta)}')\n",
    "RestaMillas = Resta * 0.621371\n",
    "print(f'Distancia entre planeta 1 y Planeta 2 en Millas: {ceil(abs(RestaMillas))}')"
   ]
  },
  {
   "cell_type": "code",
   "execution_count": 35,
   "metadata": {},
   "outputs": [
    {
     "name": "stdout",
     "output_type": "stream",
     "text": [
      "Distancia entre Tierra y Mercurio es de (91700000, '<10.1f') \n"
     ]
    }
   ],
   "source": [
    "planetas = ['Mercurio', 'Venus', 'Tierra', 'Marte', 'Jupiter','Saturno','Urano','Neptuno']\n",
    "distancias = [57900000,1082000000,149600000,227900000,778600000,14335000000,2872500000,4495100000]\n",
    "\n",
    "planeta1 = input(\"Primer planeta (Mercurio,Venus,Tierra,Marte,Jupiter,Saturno,Urano,Neptuno):\")\n",
    "planeta2 = input(\"Segundo planeta (Mercurio,Venus,Tierra,Marte,Jupiter,Saturno,Urano,Neptuno):\")\n",
    "lugarplaneta1 = 0\n",
    "lugarplaneta2 = 0\n",
    "\n",
    "for p1 in planetas:\n",
    "    if p1 == planeta1:\n",
    "        distancia1 = distancias[lugarplaneta1]\n",
    "    else:\n",
    "        lugarplaneta1 += 1\n",
    "#print(f\"distancia 1: {distancia1}\")        \n",
    "\n",
    "for p2 in planetas:\n",
    "    if p2 == planeta2:\n",
    "        distancia2 = distancias[lugarplaneta2]\n",
    "    else:\n",
    "        lugarplaneta2 += 1\n",
    "#print(f\"distancia 2: {distancia2}\")  \n",
    "\n",
    "print(f\"\"\"Distancia entre {planeta1} y {planeta2} es de {abs(distancia1 - distancia2)} \"\"\") \n",
    "\n",
    "\n",
    "\n",
    "\n",
    "\n"
   ]
  },
  {
   "cell_type": "code",
   "execution_count": 34,
   "metadata": {},
   "outputs": [
    {
     "name": "stdout",
     "output_type": "stream",
     "text": [
      "3141.59\n",
      "    3141.6\n",
      "3141.6    \n",
      "3,141.59265\n",
      "3,141.6\n",
      "3.141593e+03\n",
      "3.14E+03\n"
     ]
    }
   ],
   "source": [
    "numero =  3141.59265\n",
    "\n",
    "# Dos decimales de precisión:\n",
    "print( format( numero , '0.2f' ))\n",
    "\n",
    "# Justificación a la derecha con diez caracteres, un decimal de precisión:\n",
    "print( format( numero , '>10.1f' ))\n",
    "\n",
    "# Justificación a la izquierda con diez caracteres, un decimal de precisión:\n",
    "print( format( numero , '<10.1f' ))\n",
    "\n",
    "# Separador de millas:\n",
    "print( format( numero , ',' ))\n",
    "print( format( numero , '0,.1f' ))\n",
    "\n",
    "# Notación científica:\n",
    "print( format( numero , 'e' ))\n",
    "print( format( numero , '0.2E' ))"
   ]
  }
 ],
 "metadata": {
  "interpreter": {
   "hash": "421ee9d1caae8b6fc4023bf4fb5e721d9f93447da1552bddf12acafeae82d322"
  },
  "kernelspec": {
   "display_name": "Python 3.10.2 64-bit",
   "language": "python",
   "name": "python3"
  },
  "language_info": {
   "codemirror_mode": {
    "name": "ipython",
    "version": 3
   },
   "file_extension": ".py",
   "mimetype": "text/x-python",
   "name": "python",
   "nbconvert_exporter": "python",
   "pygments_lexer": "ipython3",
   "version": "3.10.2"
  },
  "orig_nbformat": 4
 },
 "nbformat": 4,
 "nbformat_minor": 2
}
