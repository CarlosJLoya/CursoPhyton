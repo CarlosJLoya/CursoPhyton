{
 "cells": [
  {
   "cell_type": "markdown",
   "metadata": {},
   "source": [
    "# Añadir el código necesario para crear una variable que guarde la velocidad del asteroide.\n",
    "# Escribe una expresión de prueba para calcular si necesita una advertencia.\n",
    "# Agregue las instrucciones que se ejecutarán si la expresión de prueba es true o false."
   ]
  },
  {
   "cell_type": "code",
   "execution_count": 2,
   "metadata": {},
   "outputs": [
    {
     "name": "stdout",
     "output_type": "stream",
     "text": [
      "Velocidad mayor a la permitida\n"
     ]
    }
   ],
   "source": [
    "velocidad = 105\n",
    "if velocidad >= 100:\n",
    "    print(\"Velocidad mayor a la permitida\")\n",
    "else:\n",
    "    print(\"Velocida menor a la permitida\")"
   ]
  },
  {
   "cell_type": "markdown",
   "metadata": {},
   "source": [
    "# Agrega el código para crear una variable para un asteroide que viaja a 19 km/s\n",
    "# Escribe varias expresiones de prueba para determinar si puedes ver el rayo de luz desde la tierra\n",
    "# Agrega las instrucciones que se ejecutarán si las expresiones de prueba son True o False"
   ]
  },
  {
   "cell_type": "code",
   "execution_count": 4,
   "metadata": {},
   "outputs": [
    {
     "name": "stdout",
     "output_type": "stream",
     "text": [
      "Rayo de luz No visible desde la tierra\n"
     ]
    }
   ],
   "source": [
    "velocidadAsteroide = 20\n",
    "if velocidadAsteroide < 19:\n",
    "    print(\"Rayo de luz visible desde la tierra\")\n",
    "elif velocidadAsteroide == 19:\n",
    "    print(\"Rayo de luz visible desde la tierra\")\n",
    "else:\n",
    "    print(\"Rayo de luz No visible desde la tierra\")"
   ]
  },
  {
   "cell_type": "markdown",
   "metadata": {},
   "source": [
    "# Agrega el código para crear nuevas variables para la velocidad y el tamaño del asteroide\n",
    "# Para probar el código, prueba con varias velocidades y tamaños\n",
    "# Escribe varias expresiones de prueba o combinaciones de expresiones de prueba para determinar qué mensaje se debe enviar a Tierra."
   ]
  },
  {
   "cell_type": "code",
   "execution_count": 7,
   "metadata": {},
   "outputs": [
    {
     "name": "stdout",
     "output_type": "stream",
     "text": [
      "Asteroide seguro\n"
     ]
    }
   ],
   "source": [
    "velocidad = 5\n",
    "tamaño = 10\n",
    "if velocidad >= 10 and tamaño >= 15:\n",
    "    print(\"Alerta Asteroide con peligro para la tierra\")\n",
    "elif velocidad >= 10 or tamaño >= 15:\n",
    "    print(\"Alerta Asteroide con peligro para la tierra\")\n",
    "else:\n",
    "    print(\"Asteroide seguro\")\n"
   ]
  }
 ],
 "metadata": {
  "interpreter": {
   "hash": "421ee9d1caae8b6fc4023bf4fb5e721d9f93447da1552bddf12acafeae82d322"
  },
  "kernelspec": {
   "display_name": "Python 3.10.2 64-bit",
   "language": "python",
   "name": "python3"
  },
  "language_info": {
   "codemirror_mode": {
    "name": "ipython",
    "version": 3
   },
   "file_extension": ".py",
   "mimetype": "text/x-python",
   "name": "python",
   "nbconvert_exporter": "python",
   "pygments_lexer": "ipython3",
   "version": "3.10.2"
  },
  "orig_nbformat": 4
 },
 "nbformat": 4,
 "nbformat_minor": 2
}
